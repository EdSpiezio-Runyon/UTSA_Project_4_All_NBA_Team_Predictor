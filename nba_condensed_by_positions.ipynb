{
  "cells": [
    {
      "cell_type": "code",
      "execution_count": 40,
      "metadata": {
        "id": "n70d6uhjFbdk"
      },
      "outputs": [],
      "source": [
        "# Dependencies\n",
        "import pandas as pd\n",
        "import numpy as np"
      ]
    },
    {
      "cell_type": "code",
      "execution_count": 41,
      "metadata": {
        "id": "XH9V8kmbPe8K"
      },
      "outputs": [],
      "source": [
        "# Initialize variables\n",
        "cutoff_year = 2000\n",
        "\n",
        "test_data_cutoff_year = 2022\n",
        "prediction_data_cutoff_year = test_data_cutoff_year + 1"
      ]
    },
    {
      "cell_type": "markdown",
      "metadata": {
        "id": "x5jovlpZQjQq"
      },
      "source": [
        "# DATA CLEANUP"
      ]
    },
    {
      "cell_type": "code",
      "execution_count": 42,
      "metadata": {
        "colab": {
          "base_uri": "https://localhost:8080/",
          "height": 424
        },
        "id": "NtvcFuhnSxdA",
        "outputId": "82e72b4c-f2ff-4400-8e09-12172aa3932e"
      },
      "outputs": [],
      "source": [
        "# Read in CSV file \n",
        "team_summaries = pd.read_csv(\"Resources\\Team Summaries.csv\")\n",
        "team_summaries = team_summaries[['season','abbreviation','playoffs','w','l']]\n",
        "team_summaries.rename(columns={'abbreviation':'tm'}, inplace=True)\n",
        "team_summaries['playoffs'] = team_summaries['playoffs'].astype(int)\n",
        "# team_summaries"
      ]
    },
    {
      "cell_type": "code",
      "execution_count": 43,
      "metadata": {
        "colab": {
          "base_uri": "https://localhost:8080/",
          "height": 206
        },
        "id": "_-zxi6DpFbdm",
        "outputId": "84553423-b8a7-4ade-8fd9-4c02da2f04a9"
      },
      "outputs": [],
      "source": [
        "# Read in CSV file\n",
        "all_nba_df = pd.read_csv(\"Resources\\End of Season Teams.csv\")\n",
        "# all_nba_df.head()"
      ]
    },
    {
      "cell_type": "code",
      "execution_count": 44,
      "metadata": {
        "colab": {
          "base_uri": "https://localhost:8080/",
          "height": 380
        },
        "id": "f_FZ7eJHFbdm",
        "outputId": "37439c55-4abc-448d-c1af-a5ba4e3794fe"
      },
      "outputs": [],
      "source": [
        "# Filter All-NBA players after year 2010. Keep only columns: all_nba, seas_id\n",
        "modern_all_nba = all_nba_df[(all_nba_df['season'] >= cutoff_year) & (all_nba_df['type'] == 'All-NBA')][['type','seas_id']]\n",
        "\n",
        "# print(modern_all_nba.info())\n",
        "# modern_all_nba.head()"
      ]
    },
    {
      "cell_type": "code",
      "execution_count": 45,
      "metadata": {
        "colab": {
          "base_uri": "https://localhost:8080/",
          "height": 236
        },
        "id": "og9dLz6vFbdn",
        "outputId": "12d47284-0ce1-419a-d8ff-ce2ca32c518c"
      },
      "outputs": [],
      "source": [
        "# Read in CSV file\n",
        "player_totals_df = pd.read_csv(\"Resources\\Player Totals.csv\")\n",
        "\n",
        "# Filter data after cutoff_year\n",
        "player_totals_df =  player_totals_df[player_totals_df['season'] >= cutoff_year]\n",
        "\n",
        "# player_totals_df.head()"
      ]
    },
    {
      "cell_type": "code",
      "execution_count": 46,
      "metadata": {
        "colab": {
          "base_uri": "https://localhost:8080/",
          "height": 424
        },
        "id": "CAF95Vqp1_o5",
        "outputId": "d160d4c0-6e02-4fde-dcf4-d6ab3a33853f"
      },
      "outputs": [],
      "source": [
        "# Find traded players current team\n",
        "traded_players = player_totals_df.sort_values(by='seas_id', ascending=False).drop_duplicates(['player','season'])[['seas_id','season','player','tm']]\n",
        "\n",
        "player_totals = pd.merge(player_totals_df, traded_players, on=['player','season'], how='left')\n",
        "\n",
        "player_totals.rename(columns={'seas_id_x':'seas_id','tm_y':'tm'}, inplace=True)\n",
        "player_totals.drop('seas_id_y', axis=1, inplace=True)\n",
        "\n",
        "player_totals = pd.merge(player_totals, team_summaries, on=['season','tm'], how='left')\n",
        "\n",
        "player_totals = player_totals.sort_values(by='seas_id').drop_duplicates(['season','player'])\n",
        "#player_totals"
      ]
    },
    {
      "cell_type": "code",
      "execution_count": 47,
      "metadata": {
        "colab": {
          "base_uri": "https://localhost:8080/",
          "height": 236
        },
        "id": "C1Za_ifeFbdn",
        "outputId": "2ad4c600-5f23-489b-9ba5-348c59191c2d"
      },
      "outputs": [],
      "source": [
        "# Filter data after 2010\n",
        "modern_player_totals = player_totals.copy()\n",
        "\n",
        "# Categorize positions into 3 categories\n",
        "modern_player_totals['forward'] = modern_player_totals['pos'].str.contains('f', case=False).astype(int)\n",
        "modern_player_totals['guard'] = modern_player_totals['pos'].str.contains('g', case=False).astype(int)\n",
        "modern_player_totals['center'] = modern_player_totals['pos'].str.contains('c', case=False).astype(int)\n",
        "\n",
        "# Drop unnecessary columns\n",
        "modern_player_totals.drop(['birth_year','player_id','player','lg','tm_x','pos','fg_percent','x3p_percent','x2p_percent','ft_percent','e_fg_percent','tm'], axis=1, inplace=True)\n",
        "\n",
        "\n",
        "# print(modern_player_totals.info())\n",
        "# modern_player_totals.head()"
      ]
    },
    {
      "cell_type": "code",
      "execution_count": 48,
      "metadata": {
        "colab": {
          "base_uri": "https://localhost:8080/",
          "height": 860
        },
        "id": "nLMdkYgsFbdo",
        "outputId": "1fd9e4b8-ba6b-44c5-c25a-c5d7f87cbb25"
      },
      "outputs": [],
      "source": [
        "# Merge ALL NBA members with players\n",
        "merged_nba = pd.merge(modern_all_nba, modern_player_totals, on='seas_id', how='right')\n",
        "merged_nba['all_nba'] = merged_nba['type'].notnull().astype(int)\n",
        "\n",
        "merged_nba.drop('type', axis=1, inplace=True)\n",
        "\n",
        "# print(merged_nba.info())\n",
        "# merged_nba.head()"
      ]
    },
    {
      "cell_type": "markdown",
      "metadata": {
        "id": "YswjZNkzFbdo"
      },
      "source": [
        "# MACHINE LEARNING"
      ]
    },
    {
      "cell_type": "code",
      "execution_count": 49,
      "metadata": {
        "id": "sta5nLMBFbdp"
      },
      "outputs": [],
      "source": [
        "from sklearn.model_selection import train_test_split\n",
        "from sklearn.preprocessing import StandardScaler\n",
        "from sklearn.linear_model import LogisticRegression\n",
        "from sklearn.metrics import accuracy_score\n",
        "from sklearn.ensemble import RandomForestClassifier"
      ]
    },
    {
      "cell_type": "code",
      "execution_count": 50,
      "metadata": {
        "id": "WuFB34BYFbdq"
      },
      "outputs": [],
      "source": [
        "test_data = merged_nba[merged_nba['season'] <= test_data_cutoff_year]\n",
        "\n",
        "# Split the data into X_train, X_test, y_train, y_test\n",
        "X = test_data.drop(\"all_nba\", axis=1)\n",
        "y = test_data[\"all_nba\"]\n",
        "X_train, X_test, y_train, y_test = train_test_split(X, y, random_state=1)\n",
        "\n",
        "# Scale the features using a standard scaler\n",
        "scaler = StandardScaler()\n",
        "X_train_scaled = scaler.fit_transform(X_train)\n",
        "X_test_scaled = scaler.transform(X_test)\n",
        "\n",
        "\n",
        "# By positions\n",
        "Xg = X[X['guard'] == 1].drop(['forward','center'], axis=1)\n",
        "yg = test_data[test_data['guard'] == 1]['all_nba']\n",
        "Xg_train, Xg_test, yg_train, yg_test = train_test_split(Xg, yg, random_state=1)\n",
        "\n",
        "Xf = X[X['forward'] == 1].drop(['guard','center'], axis=1)\n",
        "yf = test_data[test_data['forward'] == 1]['all_nba']\n",
        "Xf_train, Xf_test, yf_train, yf_test = train_test_split(Xf, yf, random_state=1)\n",
        "\n",
        "Xc = X[X['center'] == 1].drop(['guard','forward'], axis=1)\n",
        "yc = test_data[test_data['center'] == 1]['all_nba']\n",
        "Xc_train, Xc_test, yc_train, yc_test = train_test_split(Xc, yc, random_state=1)\n",
        "\n",
        "scalerg = StandardScaler()\n",
        "Xg_train_scaled = scalerg.fit_transform(Xg_train)\n",
        "Xg_test_scaled = scalerg.transform(Xg_test)\n",
        "\n",
        "scalerf = StandardScaler()\n",
        "Xf_train_scaled = scalerf.fit_transform(Xf_train)\n",
        "Xf_test_scaled = scalerf.transform(Xf_test)\n",
        "\n",
        "scalerc = StandardScaler()\n",
        "Xc_train_scaled = scalerc.fit_transform(Xc_train)\n",
        "Xc_test_scaled = scalerc.transform(Xc_test)"
      ]
    },
    {
      "cell_type": "code",
      "execution_count": 51,
      "metadata": {
        "colab": {
          "base_uri": "https://localhost:8080/"
        },
        "id": "D9vfOmb9Fbdq",
        "outputId": "7f164d0b-9b27-4f3a-d6a6-c2a8c48e3f68"
      },
      "outputs": [
        {
          "name": "stdout",
          "output_type": "stream",
          "text": [
            "Training Data Score: 0.9894379021488406\n",
            "Testing Data Score: 0.9898033503277495\n",
            "-------------------------------------\n",
            "Training Data Score: 0.9892697466467958\n",
            "Testing Data Score: 0.9874888293118856\n",
            "-------------------------------------\n",
            "Training Data Score: 0.9932556713672593\n",
            "Testing Data Score: 0.9944852941176471\n",
            "-------------------------------------\n",
            "Training Data Score: 0.9923708920187794\n",
            "Testing Data Score: 0.9824253075571178\n"
          ]
        }
      ],
      "source": [
        "# Train a Logistic Regression model and print the model score\n",
        "classifier = LogisticRegression(max_iter=10000)\n",
        "\n",
        "classifier.fit(X_train_scaled, y_train)\n",
        "\n",
        "print(f\"Training Data Score: {classifier.score(X_train_scaled, y_train)}\")\n",
        "print(f\"Testing Data Score: {classifier.score(X_test_scaled, y_test)}\")\n",
        "print('-------------------------------------')\n",
        "\n",
        "# By positions\n",
        "classifierg = LogisticRegression(max_iter=10000)\n",
        "classifierg.fit(Xg_train_scaled, yg_train)\n",
        "\n",
        "print(f\"Training Data Score: {classifierg.score(Xg_train_scaled, yg_train)}\")\n",
        "print(f\"Testing Data Score: {classifierg.score(Xg_test_scaled, yg_test)}\")\n",
        "print('-------------------------------------')\n",
        "\n",
        "classifierf = LogisticRegression(max_iter=10000)\n",
        "classifierf.fit(Xf_train_scaled, yf_train)\n",
        "\n",
        "print(f\"Training Data Score: {classifierf.score(Xf_train_scaled, yf_train)}\")\n",
        "print(f\"Testing Data Score: {classifierf.score(Xf_test_scaled, yf_test)}\")\n",
        "print('-------------------------------------')\n",
        "\n",
        "classifierc = LogisticRegression(max_iter=10000)\n",
        "classifierc.fit(Xc_train_scaled, yc_train)\n",
        "\n",
        "print(f\"Training Data Score: {classifierc.score(Xc_train_scaled, yc_train)}\")\n",
        "print(f\"Testing Data Score: {classifierc.score(Xc_test_scaled, yc_test)}\")"
      ]
    },
    {
      "cell_type": "code",
      "execution_count": 52,
      "metadata": {
        "id": "Pav-gbvJFbdr"
      },
      "outputs": [],
      "source": [
        "# Make predictions on new data\n",
        "prediction_data = merged_nba[merged_nba['season'] == prediction_data_cutoff_year].drop('all_nba', axis=1)\n",
        "prediction_data_scaled = scaler.transform(prediction_data)\n",
        "proba = classifier.predict_proba(prediction_data_scaled)\n",
        "\n",
        "# Add the All-NBA probability to the prediction_data dataframe as percentage\n",
        "prediction_data['All-NBA Probability'] = np.around(proba[:, 1] * 100 , 2)\n",
        "prediction_data.sort_values(by='All-NBA Probability', ascending=False, inplace=True)\n",
        "\n",
        "# By positions\n",
        "prediction_gdata = merged_nba[(merged_nba['season'] == prediction_data_cutoff_year) & (merged_nba['guard']==1)].drop(['all_nba','forward','center'], axis=1)\n",
        "prediction_gdata_scaled = scalerg.transform(prediction_gdata)\n",
        "proba_g = classifierg.predict_proba(prediction_gdata_scaled)\n",
        "\n",
        "# Add the All-NBA probability to the prediction_data dataframe as percentage\n",
        "prediction_gdata['All-NBA G Probability'] = np.around(proba_g[:, 1] * 100 , 2)\n",
        "prediction_gdata.sort_values(by='All-NBA G Probability', ascending=False, inplace=True)\n",
        "\n",
        "prediction_fdata = merged_nba[(merged_nba['season'] == prediction_data_cutoff_year) & (merged_nba['forward']==1)].drop(['all_nba','guard','center'], axis=1)\n",
        "prediction_fdata_scaled = scalerf.transform(prediction_fdata)\n",
        "proba_f = classifierf.predict_proba(prediction_fdata_scaled)\n",
        "\n",
        "# Add the All-NBA probability to the prediction_data dataframe as percentage\n",
        "prediction_fdata['All-NBA F Probability'] = np.around(proba_f[:, 1] * 100 , 2)\n",
        "prediction_fdata.sort_values(by='All-NBA F Probability', ascending=False, inplace=True)\n",
        "\n",
        "prediction_cdata = merged_nba[(merged_nba['season'] == prediction_data_cutoff_year) & (merged_nba['center']==1)].drop(['all_nba','guard','forward'], axis=1)\n",
        "prediction_cdata_scaled = scalerc.transform(prediction_cdata)\n",
        "proba_c = classifierc.predict_proba(prediction_cdata_scaled)\n",
        "\n",
        "# Add the All-NBA probability to the prediction_data dataframe as percentage\n",
        "prediction_cdata['All-NBA C Probability'] = np.around(proba_c[:, 1] * 100 , 2)\n",
        "prediction_cdata.sort_values(by='All-NBA C Probability', ascending=False, inplace=True)"
      ]
    },
    {
      "cell_type": "code",
      "execution_count": 53,
      "metadata": {
        "id": "nqCYHgY6Fbdr"
      },
      "outputs": [],
      "source": [
        "# Merge in player names with correct Team name.  Correcting erroneous players with TOT as team name\n",
        "player_info = player_totals.sort_values(by='seas_id', ascending=False)[['seas_id','player','tm']]\n",
        "\n",
        "predicted_players = pd.merge(player_info, prediction_data, on='seas_id', how='right')\n",
        "\n",
        "predicted_g_players = pd.merge(player_info, prediction_gdata, on='seas_id', how='right')\n",
        "predicted_f_players = pd.merge(player_info, prediction_fdata, on='seas_id', how='right')\n",
        "predicted_c_players = pd.merge(player_info, prediction_cdata, on='seas_id', how='right')"
      ]
    },
    {
      "cell_type": "code",
      "execution_count": 54,
      "metadata": {
        "id": "EWgWWzfUFbdr"
      },
      "outputs": [],
      "source": [
        "# Separate players by positions\n",
        "top_guards = predicted_players[predicted_players['guard'] == 1].head(20)\n",
        "top_forwards = predicted_players[predicted_players['forward'] == 1].head(10)\n",
        "top_centers = predicted_players[predicted_players['center'] == 1].head(10)\n",
        "\n",
        "# By positions\n",
        "top_gguards = predicted_g_players[predicted_g_players['guard'] == 1].head(20)\n",
        "top_fforwards = predicted_f_players[predicted_f_players['forward'] == 1].head(10)\n",
        "top_ccenters = predicted_c_players[predicted_c_players['center'] == 1].head(10)\n"
      ]
    },
    {
      "cell_type": "markdown",
      "metadata": {
        "id": "THrwBFgkQVLF"
      },
      "source": [
        "# OUTPUT"
      ]
    },
    {
      "cell_type": "code",
      "execution_count": 55,
      "metadata": {
        "colab": {
          "base_uri": "https://localhost:8080/"
        },
        "id": "fxSMTNm9Fbds",
        "outputId": "66820adb-8347-49bf-b89a-facfa201aef8"
      },
      "outputs": [
        {
          "name": "stdout",
          "output_type": "stream",
          "text": [
            "Top Guards\n",
            "|    |   seas_id | player                  | tm   |   season |   age |   experience |   g |   gs |   mp |   fg |   fga |   x3p |   x3pa |   x2p |   x2pa |   ft |   fta |   orb |   drb |   trb |   ast |   stl |   blk |   tov |   pf |   pts |   playoffs |   w |   l |   forward |   guard |   center |   All-NBA Probability |\n",
            "|---:|----------:|:------------------------|:-----|---------:|------:|-------------:|----:|-----:|-----:|-----:|------:|------:|-------:|------:|-------:|-----:|------:|------:|------:|------:|------:|------:|------:|------:|-----:|------:|-----------:|----:|----:|----------:|--------:|---------:|----------------------:|\n",
            "|  3 |     30847 | Luka Dončić             | DAL  |     2023 |    23 |            5 |  53 |   53 | 1930 |  594 |  1175 |   145 |    415 |   449 |    760 |  426 |   583 |    46 |   419 |   465 |   428 |    79 |    27 |   192 |  140 |  1759 |          0 |  32 |  31 |         0 |       1 |        0 |                 93.87 |\n",
            "|  5 |     30680 | Ja Morant               | MEM  |     2023 |    23 |            4 |  51 |   51 | 1662 |  493 |  1062 |    82 |    264 |   411 |    798 |  321 |   432 |    57 |   249 |   306 |   417 |    55 |    13 |   177 |   86 |  1389 |          0 |  37 |  23 |         0 |       1 |        0 |                 56.27 |\n",
            "|  6 |     31000 | Shai Gilgeous-Alexander | OKC  |     2023 |    24 |            5 |  54 |   54 | 1918 |  553 |  1091 |    47 |    139 |   506 |    952 |  521 |   574 |    48 |   208 |   256 |   307 |    89 |    58 |   155 |  145 |  1674 |          0 |  28 |  33 |         0 |       1 |        0 |                 52.28 |\n",
            "|  8 |     30561 | Damian Lillard          | POR  |     2023 |    32 |           11 |  48 |   48 | 1739 |  466 |   990 |   206 |    542 |   260 |    448 |  403 |   438 |    33 |   174 |   207 |   347 |    41 |    14 |   151 |   93 |  1541 |          0 |  29 |  32 |         0 |       1 |        0 |                 35.23 |\n",
            "|  9 |     30708 | James Harden            | PHI  |     2023 |    33 |           14 |  44 |   44 | 1614 |  288 |   640 |   126 |    321 |   162 |    319 |  248 |   287 |    24 |   248 |   272 |   471 |    55 |    26 |   151 |   88 |   950 |          0 |  39 |  21 |         0 |       1 |        0 |                 34.15 |\n",
            "| 11 |     31042 | Trae Young              | ATL  |     2023 |    24 |            5 |  55 |   55 | 1942 |  469 |  1093 |   119 |    364 |   350 |    729 |  432 |   486 |    40 |   121 |   161 |   557 |    57 |     9 |   225 |   85 |  1489 |          0 |  31 |  31 |         0 |       1 |        0 |                 27.31 |\n",
            "| 15 |     30583 | De'Aaron Fox            | SAC  |     2023 |    25 |            6 |  55 |   55 | 1877 |  519 |  1007 |    87 |    263 |   432 |    744 |  272 |   346 |    26 |   208 |   234 |   345 |    63 |    18 |   147 |  135 |  1397 |          0 |  36 |  25 |         0 |       1 |        0 |                 13.49 |\n",
            "| 18 |     30611 | Donovan Mitchell        | CLE  |     2023 |    26 |            6 |  53 |   53 | 1875 |  503 |  1050 |   194 |    499 |   309 |    551 |  241 |   275 |    49 |   164 |   213 |   253 |    82 |    21 |   143 |  127 |  1441 |          0 |  39 |  25 |         0 |       1 |        0 |                 10.69 |\n",
            "| 21 |     30774 | Jrue Holiday            | MIL  |     2023 |    32 |           14 |  50 |   48 | 1647 |  374 |   795 |   121 |    317 |   253 |    478 |  116 |   135 |    60 |   198 |   258 |   356 |    62 |    18 |   149 |   94 |   985 |          0 |  44 |  17 |         0 |       1 |        0 |                  8.73 |\n",
            "| 22 |     30694 | Jalen Brunson           | NYK  |     2023 |    26 |            5 |  59 |   59 | 2075 |  495 |  1034 |   109 |    272 |   386 |    762 |  292 |   350 |    37 |   176 |   213 |   364 |    53 |    15 |   119 |  134 |  1391 |          0 |  36 |  27 |         0 |       1 |        0 |                  7.04 |\n",
            "-----------------------------------------------------------------------------------------------------\n",
            "Top Forwards\n",
            "|    |   seas_id | player                | tm   |   season |   age |   experience |   g |   gs |   mp |   fg |   fga |   x3p |   x3pa |   x2p |   x2pa |   ft |   fta |   orb |   drb |   trb |   ast |   stl |   blk |   tov |   pf |   pts |   playoffs |   w |   l |   forward |   guard |   center |   All-NBA Probability |\n",
            "|---:|----------:|:----------------------|:-----|---------:|------:|-------------:|----:|-----:|-----:|-----:|------:|------:|-------:|------:|-------:|-----:|------:|------:|------:|------:|------:|------:|------:|------:|-----:|------:|-----------:|----:|----:|----------:|--------:|---------:|----------------------:|\n",
            "|  1 |     30653 | Giannis Antetokounmpo | MIL  |     2023 |    28 |           10 |  49 |   49 | 1589 |  549 |  1019 |    39 |    143 |   510 |    876 |  396 |   616 |   112 |   479 |   591 |   262 |    37 |    37 |   192 |  163 |  1533 |          0 |  44 |  17 |         1 |       0 |        0 |                 97.66 |\n",
            "|  4 |     30728 | Jayson Tatum          | BOS  |     2023 |    24 |            6 |  58 |   58 | 2166 |  569 |  1238 |   190 |    541 |   379 |    697 |  420 |   486 |    65 |   440 |   505 |   272 |    60 |    45 |   172 |  123 |  1748 |          0 |  44 |  18 |         1 |       0 |        0 |                 91.43 |\n",
            "|  7 |     30843 | LeBron James          | LAL  |     2023 |    38 |           20 |  47 |   47 | 1695 |  532 |  1061 |   100 |    325 |   432 |    736 |  224 |   295 |    57 |   339 |   396 |   326 |    44 |    26 |   147 |   79 |  1388 |          0 |  29 |  33 |         1 |       0 |        0 |                 37.46 |\n",
            "| 12 |     30781 | Julius Randle         | NYK  |     2023 |    28 |            9 |  63 |   63 | 2256 |  537 |  1159 |   176 |    510 |   361 |    649 |  332 |   438 |   132 |   530 |   662 |   259 |    42 |    18 |   174 |  188 |  1582 |          0 |  36 |  27 |         1 |       0 |        0 |                 26.42 |\n",
            "| 14 |     30812 | Kevin Durant          | PHO  |     2023 |    34 |           15 |  42 |   42 | 1501 |  439 |   776 |    78 |    202 |   361 |    574 |  282 |   303 |    15 |   269 |   284 |   218 |    33 |    61 |   142 |   97 |  1238 |          0 |  33 |  29 |         1 |       0 |        0 |                 17.92 |\n",
            "| 17 |     30725 | Jaylen Brown          | BOS  |     2023 |    26 |            7 |  50 |   50 | 1787 |  494 |  1016 |   126 |    375 |   368 |    641 |  213 |   274 |    63 |   288 |   351 |   161 |    57 |    22 |   153 |  136 |  1327 |          0 |  44 |  18 |         1 |       0 |        0 |                 12.14 |\n",
            "| 19 |     30737 | Jimmy Butler          | MIA  |     2023 |    33 |           12 |  47 |   47 | 1569 |  340 |   657 |    25 |     78 |   315 |    579 |  324 |   384 |   103 |   176 |   279 |   239 |    93 |    16 |    82 |   60 |  1029 |          0 |  33 |  29 |         1 |       0 |        0 |                 10.45 |\n",
            "| 26 |     30591 | DeMar DeRozan         | CHI  |     2023 |    33 |           14 |  56 |   56 | 2023 |  508 |   998 |    27 |     88 |   481 |    910 |  360 |   410 |    23 |   230 |   253 |   282 |    55 |    30 |   124 |  152 |  1403 |          0 |  28 |  34 |         1 |       0 |        0 |                  4.84 |\n",
            "| 29 |     30841 | Lauri Markkanen       | UTA  |     2023 |    25 |            6 |  57 |   57 | 1959 |  487 |   952 |   174 |    425 |   313 |    527 |  292 |   332 |   106 |   382 |   488 |   103 |    35 |    34 |   107 |  117 |  1440 |          0 |  31 |  32 |         1 |       0 |        0 |                  3.47 |\n",
            "| 32 |     30462 | Aaron Gordon          | DEN  |     2023 |    27 |            9 |  51 |   51 | 1533 |  331 |   566 |    50 |    131 |   281 |    435 |  153 |   246 |   120 |   229 |   349 |   151 |    40 |    39 |    81 |   98 |   865 |          0 |  44 |  19 |         1 |       0 |        0 |                  2.34 |\n",
            "-----------------------------------------------------------------------------------------------------\n",
            "Top Centers\n",
            "|    |   seas_id | player           | tm   |   season |   age |   experience |   g |   gs |   mp |   fg |   fga |   x3p |   x3pa |   x2p |   x2pa |   ft |   fta |   orb |   drb |   trb |   ast |   stl |   blk |   tov |   pf |   pts |   playoffs |   w |   l |   forward |   guard |   center |   All-NBA Probability |\n",
            "|---:|----------:|:-----------------|:-----|---------:|------:|-------------:|----:|-----:|-----:|-----:|------:|------:|-------:|------:|-------:|-----:|------:|------:|------:|------:|------:|------:|------:|------:|-----:|------:|-----------:|----:|----:|----------:|--------:|---------:|----------------------:|\n",
            "|  0 |     30924 | Nikola Jokić     | DEN  |     2023 |    27 |            8 |  55 |   55 | 1846 |  516 |   815 |    45 |    113 |   471 |    702 |  277 |   337 |   128 |   515 |   643 |   551 |    70 |    36 |   196 |  142 |  1354 |          0 |  44 |  19 |         0 |       0 |        1 |                 98.62 |\n",
            "|  2 |     30742 | Joel Embiid      | PHI  |     2023 |    28 |            7 |  48 |   48 | 1683 |  525 |   987 |    50 |    148 |   475 |    839 |  484 |   563 |    86 |   414 |   500 |   196 |    53 |    78 |   170 |  153 |  1584 |          0 |  39 |  21 |         0 |       0 |        1 |                 97.6  |\n",
            "| 10 |     30609 | Domantas Sabonis | SAC  |     2023 |    26 |            7 |  59 |   59 | 2035 |  417 |   679 |    24 |     69 |   393 |    610 |  250 |   326 |   175 |   555 |   730 |   410 |    50 |    27 |   176 |  217 |  1108 |          0 |  36 |  25 |         0 |       0 |        1 |                 33.79 |\n",
            "| 13 |     30940 | Pascal Siakam    | TOR  |     2023 |    28 |            7 |  53 |   53 | 1985 |  479 |  1004 |    76 |    220 |   403 |    784 |  303 |   394 |    98 |   311 |   409 |   318 |    44 |    29 |   132 |  174 |  1337 |          0 |  31 |  32 |         0 |       0 |        1 |                 20.27 |\n",
            "| 16 |     30482 | Anthony Davis    | LAL  |     2023 |    29 |           11 |  38 |   36 | 1266 |  368 |   656 |    13 |     55 |   355 |    601 |  231 |   285 |   127 |   350 |   477 |    93 |    42 |    80 |    81 |  103 |   980 |          0 |  29 |  33 |         0 |       0 |        1 |                 13.34 |\n",
            "| 20 |     30489 | Bam Adebayo      | MIA  |     2023 |    25 |            6 |  57 |   57 | 1997 |  479 |   893 |     1 |     12 |   478 |    881 |  252 |   315 |   149 |   410 |   559 |   184 |    69 |    45 |   145 |  161 |  1211 |          0 |  33 |  29 |         0 |       0 |        1 |                  9.63 |\n"
          ]
        }
      ],
      "source": [
        "print(\"Top Guards\")\n",
        "print(top_guards.head(10).to_markdown())\n",
        "print('-----------------------------------------------------------------------------------------------------')\n",
        "print(\"Top Forwards\")\n",
        "print(top_forwards.head(10).to_markdown())\n",
        "print('-----------------------------------------------------------------------------------------------------')\n",
        "print(\"Top Centers\")\n",
        "print(top_centers.head(6).to_markdown())"
      ]
    },
    {
      "cell_type": "code",
      "execution_count": 56,
      "metadata": {},
      "outputs": [
        {
          "name": "stdout",
          "output_type": "stream",
          "text": [
            "Top Guards\n",
            "|    |   seas_id | player                  | tm   |   season |   age |   experience |   g |   gs |   mp |   fg |   fga |   x3p |   x3pa |   x2p |   x2pa |   ft |   fta |   orb |   drb |   trb |   ast |   stl |   blk |   tov |   pf |   pts |   playoffs |   w |   l |   guard |   All-NBA G Probability |\n",
            "|---:|----------:|:------------------------|:-----|---------:|------:|-------------:|----:|-----:|-----:|-----:|------:|------:|-------:|------:|-------:|-----:|------:|------:|------:|------:|------:|------:|------:|------:|-----:|------:|-----------:|----:|----:|--------:|------------------------:|\n",
            "|  0 |     30847 | Luka Dončić             | DAL  |     2023 |    23 |            5 |  53 |   53 | 1930 |  594 |  1175 |   145 |    415 |   449 |    760 |  426 |   583 |    46 |   419 |   465 |   428 |    79 |    27 |   192 |  140 |  1759 |          0 |  32 |  31 |       1 |                   90.92 |\n",
            "|  1 |     30680 | Ja Morant               | MEM  |     2023 |    23 |            4 |  51 |   51 | 1662 |  493 |  1062 |    82 |    264 |   411 |    798 |  321 |   432 |    57 |   249 |   306 |   417 |    55 |    13 |   177 |   86 |  1389 |          0 |  37 |  23 |       1 |                   75.52 |\n",
            "|  2 |     31042 | Trae Young              | ATL  |     2023 |    24 |            5 |  55 |   55 | 1942 |  469 |  1093 |   119 |    364 |   350 |    729 |  432 |   486 |    40 |   121 |   161 |   557 |    57 |     9 |   225 |   85 |  1489 |          0 |  31 |  31 |       1 |                   53.56 |\n",
            "|  3 |     30561 | Damian Lillard          | POR  |     2023 |    32 |           11 |  48 |   48 | 1739 |  466 |   990 |   206 |    542 |   260 |    448 |  403 |   438 |    33 |   174 |   207 |   347 |    41 |    14 |   151 |   93 |  1541 |          0 |  29 |  32 |       1 |                   49.88 |\n",
            "|  4 |     31000 | Shai Gilgeous-Alexander | OKC  |     2023 |    24 |            5 |  54 |   54 | 1918 |  553 |  1091 |    47 |    139 |   506 |    952 |  521 |   574 |    48 |   208 |   256 |   307 |    89 |    58 |   155 |  145 |  1674 |          0 |  28 |  33 |       1 |                   39.04 |\n",
            "|  5 |     30708 | James Harden            | PHI  |     2023 |    33 |           14 |  44 |   44 | 1614 |  288 |   640 |   126 |    321 |   162 |    319 |  248 |   287 |    24 |   248 |   272 |   471 |    55 |    26 |   151 |   88 |   950 |          0 |  39 |  21 |       1 |                   24.26 |\n",
            "|  6 |     30611 | Donovan Mitchell        | CLE  |     2023 |    26 |            6 |  53 |   53 | 1875 |  503 |  1050 |   194 |    499 |   309 |    551 |  241 |   275 |    49 |   164 |   213 |   253 |    82 |    21 |   143 |  127 |  1441 |          0 |  39 |  25 |       1 |                   21.63 |\n",
            "|  7 |     30583 | De'Aaron Fox            | SAC  |     2023 |    25 |            6 |  55 |   55 | 1877 |  519 |  1007 |    87 |    263 |   432 |    744 |  272 |   346 |    26 |   208 |   234 |   345 |    63 |    18 |   147 |  135 |  1397 |          0 |  36 |  25 |       1 |                   20.41 |\n",
            "|  8 |     30774 | Jrue Holiday            | MIL  |     2023 |    32 |           14 |  50 |   48 | 1647 |  374 |   795 |   121 |    317 |   253 |    478 |  116 |   135 |    60 |   198 |   258 |   356 |    62 |    18 |   149 |   94 |   985 |          0 |  44 |  17 |       1 |                   17.99 |\n",
            "|  9 |     30705 | Jamal Murray            | DEN  |     2023 |    25 |            6 |  49 |   49 | 1595 |  360 |   790 |   121 |    312 |   239 |    478 |  146 |   176 |    39 |   160 |   199 |   292 |    49 |     9 |   104 |   67 |   987 |          0 |  44 |  19 |       1 |                   11.41 |\n",
            "-----------------------------------------------------------------------------------------------------\n",
            "Top Forwards\n",
            "|    |   seas_id | player                | tm   |   season |   age |   experience |   g |   gs |   mp |   fg |   fga |   x3p |   x3pa |   x2p |   x2pa |   ft |   fta |   orb |   drb |   trb |   ast |   stl |   blk |   tov |   pf |   pts |   playoffs |   w |   l |   forward |   All-NBA F Probability |\n",
            "|---:|----------:|:----------------------|:-----|---------:|------:|-------------:|----:|-----:|-----:|-----:|------:|------:|-------:|------:|-------:|-----:|------:|------:|------:|------:|------:|------:|------:|------:|-----:|------:|-----------:|----:|----:|----------:|------------------------:|\n",
            "|  0 |     30653 | Giannis Antetokounmpo | MIL  |     2023 |    28 |           10 |  49 |   49 | 1589 |  549 |  1019 |    39 |    143 |   510 |    876 |  396 |   616 |   112 |   479 |   591 |   262 |    37 |    37 |   192 |  163 |  1533 |          0 |  44 |  17 |         1 |                   99.77 |\n",
            "|  1 |     30728 | Jayson Tatum          | BOS  |     2023 |    24 |            6 |  58 |   58 | 2166 |  569 |  1238 |   190 |    541 |   379 |    697 |  420 |   486 |    65 |   440 |   505 |   272 |    60 |    45 |   172 |  123 |  1748 |          0 |  44 |  18 |         1 |                   99.61 |\n",
            "|  2 |     30781 | Julius Randle         | NYK  |     2023 |    28 |            9 |  63 |   63 | 2256 |  537 |  1159 |   176 |    510 |   361 |    649 |  332 |   438 |   132 |   530 |   662 |   259 |    42 |    18 |   174 |  188 |  1582 |          0 |  36 |  27 |         1 |                   81.62 |\n",
            "|  3 |     30843 | LeBron James          | LAL  |     2023 |    38 |           20 |  47 |   47 | 1695 |  532 |  1061 |   100 |    325 |   432 |    736 |  224 |   295 |    57 |   339 |   396 |   326 |    44 |    26 |   147 |   79 |  1388 |          0 |  29 |  33 |         1 |                   68.24 |\n",
            "|  4 |     30725 | Jaylen Brown          | BOS  |     2023 |    26 |            7 |  50 |   50 | 1787 |  494 |  1016 |   126 |    375 |   368 |    641 |  213 |   274 |    63 |   288 |   351 |   161 |    57 |    22 |   153 |  136 |  1327 |          0 |  44 |  18 |         1 |                   57.89 |\n",
            "|  5 |     30812 | Kevin Durant          | PHO  |     2023 |    34 |           15 |  42 |   42 | 1501 |  439 |   776 |    78 |    202 |   361 |    574 |  282 |   303 |    15 |   269 |   284 |   218 |    33 |    61 |   142 |   97 |  1238 |          0 |  33 |  29 |         1 |                   43.63 |\n",
            "|  6 |     30591 | DeMar DeRozan         | CHI  |     2023 |    33 |           14 |  56 |   56 | 2023 |  508 |   998 |    27 |     88 |   481 |    910 |  360 |   410 |    23 |   230 |   253 |   282 |    55 |    30 |   124 |  152 |  1403 |          0 |  28 |  34 |         1 |                   23.94 |\n",
            "|  7 |     30841 | Lauri Markkanen       | UTA  |     2023 |    25 |            6 |  57 |   57 | 1959 |  487 |   952 |   174 |    425 |   313 |    527 |  292 |   332 |   106 |   382 |   488 |   103 |    35 |    34 |   107 |  117 |  1440 |          0 |  31 |  32 |         1 |                   22.15 |\n",
            "|  8 |     30737 | Jimmy Butler          | MIA  |     2023 |    33 |           12 |  47 |   47 | 1569 |  340 |   657 |    25 |     78 |   315 |    579 |  324 |   384 |   103 |   176 |   279 |   239 |    93 |    16 |    82 |   60 |  1029 |          0 |  33 |  29 |         1 |                   11.5  |\n",
            "|  9 |     30496 | Bobby Portis          | MIL  |     2023 |    27 |            8 |  50 |   15 | 1316 |  293 |   588 |    60 |    176 |   233 |    412 |   66 |    80 |   126 |   370 |   496 |    87 |    23 |    12 |    61 |   84 |   712 |          0 |  44 |  17 |         1 |                    3.66 |\n",
            "-----------------------------------------------------------------------------------------------------\n",
            "Top Centers\n",
            "|    |   seas_id | player             | tm   |   season |   age |   experience |   g |   gs |   mp |   fg |   fga |   x3p |   x3pa |   x2p |   x2pa |   ft |   fta |   orb |   drb |   trb |   ast |   stl |   blk |   tov |   pf |   pts |   playoffs |   w |   l |   center |   All-NBA C Probability |\n",
            "|---:|----------:|:-------------------|:-----|---------:|------:|-------------:|----:|-----:|-----:|-----:|------:|------:|-------:|------:|-------:|-----:|------:|------:|------:|------:|------:|------:|------:|------:|-----:|------:|-----------:|----:|----:|---------:|------------------------:|\n",
            "|  0 |     30924 | Nikola Jokić       | DEN  |     2023 |    27 |            8 |  55 |   55 | 1846 |  516 |   815 |    45 |    113 |   471 |    702 |  277 |   337 |   128 |   515 |   643 |   551 |    70 |    36 |   196 |  142 |  1354 |          0 |  44 |  19 |        1 |                   43.52 |\n",
            "|  1 |     30742 | Joel Embiid        | PHI  |     2023 |    28 |            7 |  48 |   48 | 1683 |  525 |   987 |    50 |    148 |   475 |    839 |  484 |   563 |    86 |   414 |   500 |   196 |    53 |    78 |   170 |  153 |  1584 |          0 |  39 |  21 |        1 |                   27.86 |\n",
            "|  2 |     30609 | Domantas Sabonis   | SAC  |     2023 |    26 |            7 |  59 |   59 | 2035 |  417 |   679 |    24 |     69 |   393 |    610 |  250 |   326 |   175 |   555 |   730 |   410 |    50 |    27 |   176 |  217 |  1108 |          0 |  36 |  25 |        1 |                    3.32 |\n",
            "|  3 |     30940 | Pascal Siakam      | TOR  |     2023 |    28 |            7 |  53 |   53 | 1985 |  479 |  1004 |    76 |    220 |   403 |    784 |  303 |   394 |    98 |   311 |   409 |   318 |    44 |    29 |   132 |  174 |  1337 |          0 |  31 |  32 |        1 |                    0.43 |\n",
            "|  4 |     30489 | Bam Adebayo        | MIA  |     2023 |    25 |            6 |  57 |   57 | 1997 |  479 |   893 |     1 |     12 |   478 |    881 |  252 |   315 |   149 |   410 |   559 |   184 |    69 |    45 |   145 |  161 |  1211 |          0 |  33 |  29 |        1 |                    0.39 |\n",
            "|  5 |     30829 | Kristaps Porziņģis | WAS  |     2023 |    27 |            7 |  51 |   51 | 1663 |  377 |   774 |   105 |    279 |   272 |    495 |  303 |   358 |    96 |   341 |   437 |   130 |    44 |    78 |   112 |  156 |  1162 |          0 |  29 |  32 |        1 |                    0.11 |\n"
          ]
        }
      ],
      "source": [
        "# print(\"Top Guards\")\n",
        "# print(top_gguards.head(10).to_markdown())\n",
        "# print('-----------------------------------------------------------------------------------------------------')\n",
        "# print(\"Top Forwards\")\n",
        "# print(top_fforwards.head(10).to_markdown())\n",
        "# print('-----------------------------------------------------------------------------------------------------')\n",
        "# print(\"Top Centers\")\n",
        "# print(top_ccenters.head(6).to_markdown())"
      ]
    },
    {
      "cell_type": "code",
      "execution_count": null,
      "metadata": {},
      "outputs": [],
      "source": []
    }
  ],
  "metadata": {
    "colab": {
      "provenance": []
    },
    "kernelspec": {
      "display_name": "base",
      "language": "python",
      "name": "python3"
    },
    "language_info": {
      "codemirror_mode": {
        "name": "ipython",
        "version": 3
      },
      "file_extension": ".py",
      "mimetype": "text/x-python",
      "name": "python",
      "nbconvert_exporter": "python",
      "pygments_lexer": "ipython3",
      "version": "3.9.12"
    },
    "orig_nbformat": 4
  },
  "nbformat": 4,
  "nbformat_minor": 0
}
